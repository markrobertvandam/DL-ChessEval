{
 "metadata": {
  "language_info": {
   "codemirror_mode": {
    "name": "ipython",
    "version": 3
   },
   "file_extension": ".py",
   "mimetype": "text/x-python",
   "name": "python",
   "nbconvert_exporter": "python",
   "pygments_lexer": "ipython3",
   "version": "3.8.5-final"
  },
  "orig_nbformat": 2,
  "kernelspec": {
   "name": "python385jvsc74a57bd07874e98711e12ed97dde30da94f04032e15b5d94164137218fef3241ec0bfb85",
   "display_name": "Python 3.8.5 64-bit ('.venv')"
  },
  "metadata": {
   "interpreter": {
    "hash": "7874e98711e12ed97dde30da94f04032e15b5d94164137218fef3241ec0bfb85"
   }
  }
 },
 "nbformat": 4,
 "nbformat_minor": 2,
 "cells": [
  {
   "cell_type": "code",
   "execution_count": 1,
   "metadata": {},
   "outputs": [],
   "source": [
    "import os\n",
    "import pickle\n",
    "\n",
    "dict_of_histories = dict()\n",
    "\n",
    "for res_file in os.listdir(\"D:\\\\PythonProjects\\\\DL-ChessEval\\\\data\\\\pipeline_plots\"):\n",
    "    if res_file.endswith(\"eval.pkl\"):\n",
    "        with open(os.path.join(\"D:\\\\PythonProjects\\\\DL-ChessEval\\\\data\\\\pipeline_plots\", res_file), 'rb') as f:\n",
    "            dict_of_histories[res_file] = pickle.load(f)"
   ]
  },
  {
   "cell_type": "code",
   "execution_count": 2,
   "metadata": {},
   "outputs": [
    {
     "output_type": "execute_result",
     "data": {
      "text/plain": [
       "{'loss': [93.51392364501953,\n",
       "  1.265442132949829,\n",
       "  1.2584247589111328,\n",
       "  1.2516433000564575,\n",
       "  1.252476692199707,\n",
       "  1.252406120300293,\n",
       "  1.2522944211959839,\n",
       "  1.2514729499816895,\n",
       "  1.2531052827835083,\n",
       "  1.3174587488174438,\n",
       "  1.2529696226119995],\n",
       " 'eval_score_loss': [46.54584503173828,\n",
       "  0.025934798642992973,\n",
       "  0.010366125032305717,\n",
       "  0.0037135337479412556,\n",
       "  0.0038426017854362726,\n",
       "  0.003844036953523755,\n",
       "  0.0038529110606759787,\n",
       "  0.003838728414848447,\n",
       "  0.003836549585685134,\n",
       "  0.04165952280163765,\n",
       "  0.003319925395771861],\n",
       " 'mate_turns_loss': [46.819541931152344,\n",
       "  1.1612073183059692,\n",
       "  1.1685221195220947,\n",
       "  1.1686151027679443,\n",
       "  1.1692761182785034,\n",
       "  1.1693432331085205,\n",
       "  1.168982982635498,\n",
       "  1.1682569980621338,\n",
       "  1.1698579788208008,\n",
       "  1.1961663961410522,\n",
       "  1.1702946424484253],\n",
       " 'is_mate_loss': [0.14857865869998932,\n",
       "  0.07829800248146057,\n",
       "  0.07953982055187225,\n",
       "  0.07931826263666153,\n",
       "  0.07935696095228195,\n",
       "  0.07921537756919861,\n",
       "  0.07946057617664337,\n",
       "  0.07937262207269669,\n",
       "  0.07941506803035736,\n",
       "  0.07962970435619354,\n",
       "  0.07935437560081482],\n",
       " 'eval_score_mean_squared_error': [46.54584503173828,\n",
       "  0.025934798642992973,\n",
       "  0.010366125032305717,\n",
       "  0.0037135337479412556,\n",
       "  0.0038426017854362726,\n",
       "  0.003844036953523755,\n",
       "  0.0038529110606759787,\n",
       "  0.003838728414848447,\n",
       "  0.003836549585685134,\n",
       "  0.04165952280163765,\n",
       "  0.003319925395771861],\n",
       " 'mate_turns_mean_squared_error': [46.819541931152344,\n",
       "  1.1612073183059692,\n",
       "  1.1685221195220947,\n",
       "  1.1686151027679443,\n",
       "  1.1692761182785034,\n",
       "  1.1693432331085205,\n",
       "  1.168982982635498,\n",
       "  1.1682569980621338,\n",
       "  1.1698579788208008,\n",
       "  1.1961663961410522,\n",
       "  1.1702946424484253],\n",
       " 'is_mate_binary_accuracy': [0.9845166802406311,\n",
       "  0.9853467345237732,\n",
       "  0.9853492975234985,\n",
       "  0.9853505492210388,\n",
       "  0.9853505492210388,\n",
       "  0.9853505492210388,\n",
       "  0.9853505492210388,\n",
       "  0.9853505492210388,\n",
       "  0.9853505492210388,\n",
       "  0.9853501319885254,\n",
       "  0.9853505492210388],\n",
       " 'val_loss': [1.2118088006973267,\n",
       "  1.2196471691131592,\n",
       "  1.2212584018707275,\n",
       "  1.6856391429901123,\n",
       "  1.2852287292480469,\n",
       "  1.2306630611419678,\n",
       "  1.2196005582809448,\n",
       "  1.2242976427078247,\n",
       "  1.2427910566329956,\n",
       "  1.2548089027404785,\n",
       "  1.5422718524932861],\n",
       " 'val_eval_score_loss': [0.0005045669386163354,\n",
       "  0.0005295380251482129,\n",
       "  0.0030915439128875732,\n",
       "  0.001226151012815535,\n",
       "  0.011802994646131992,\n",
       "  0.0008796348702162504,\n",
       "  0.008019279688596725,\n",
       "  0.002287464216351509,\n",
       "  0.0017541483975946903,\n",
       "  0.0005248523666523397,\n",
       "  0.004111971240490675],\n",
       " 'val_mate_turns_loss': [1.1337146759033203,\n",
       "  1.1386034488677979,\n",
       "  1.139405608177185,\n",
       "  1.589188814163208,\n",
       "  1.1942503452301025,\n",
       "  1.1426653861999512,\n",
       "  1.133992314338684,\n",
       "  1.1345497369766235,\n",
       "  1.1634665727615356,\n",
       "  1.1767898797988892,\n",
       "  1.4531598091125488],\n",
       " 'val_is_mate_loss': [0.07758867740631104,\n",
       "  0.08051355183124542,\n",
       "  0.07875972986221313,\n",
       "  0.09522420167922974,\n",
       "  0.07917610555887222,\n",
       "  0.08711683005094528,\n",
       "  0.07759015262126923,\n",
       "  0.08746273070573807,\n",
       "  0.07756950706243515,\n",
       "  0.07749241590499878,\n",
       "  0.08499907702207565],\n",
       " 'val_eval_score_mean_squared_error': [0.0005045669386163354,\n",
       "  0.0005295380251482129,\n",
       "  0.0030915439128875732,\n",
       "  0.001226151012815535,\n",
       "  0.011802994646131992,\n",
       "  0.0008796348702162504,\n",
       "  0.008019279688596725,\n",
       "  0.002287464216351509,\n",
       "  0.0017541483975946903,\n",
       "  0.0005248523666523397,\n",
       "  0.004111971240490675],\n",
       " 'val_mate_turns_mean_squared_error': [1.1337146759033203,\n",
       "  1.1386034488677979,\n",
       "  1.139405608177185,\n",
       "  1.589188814163208,\n",
       "  1.1942503452301025,\n",
       "  1.1426653861999512,\n",
       "  1.133992314338684,\n",
       "  1.1345497369766235,\n",
       "  1.1634665727615356,\n",
       "  1.1767898797988892,\n",
       "  1.4531598091125488],\n",
       " 'val_is_mate_binary_accuracy': [0.9850980639457703,\n",
       "  0.9850980639457703,\n",
       "  0.9850980639457703,\n",
       "  0.9850980639457703,\n",
       "  0.9850980639457703,\n",
       "  0.9850980639457703,\n",
       "  0.9850980639457703,\n",
       "  0.9850980639457703,\n",
       "  0.9850980639457703,\n",
       "  0.9850980639457703,\n",
       "  0.9850980639457703]}"
      ]
     },
     "metadata": {},
     "execution_count": 2
    }
   ],
   "source": [
    "dict_of_histories['af_elu_op_Adam_dr_0.3_bs_256_ep_50_lr_0.01_eval.pkl']"
   ]
  },
  {
   "cell_type": "code",
   "execution_count": 8,
   "metadata": {},
   "outputs": [],
   "source": [
    "list_of_train_eval_loss = list()\n",
    "list_of_train_mate_loss = list()\n",
    "list_of_val_eval_loss = list()\n",
    "list_of_val_mate_loss = list()\n",
    "for res_file in os.listdir(\"D:\\\\PythonProjects\\\\DL-ChessEval\\\\data\\\\pipeline_plots\"):\n",
    "    if res_file.endswith(\"eval.pkl\"):\n",
    "        list_of_val_eval_loss.append(dict_of_histories[res_file]['val_eval_score_loss'][-1])\n",
    "        list_of_val_mate_loss.append(dict_of_histories[res_file]['val_mate_turns_loss'][-1])\n",
    "        list_of_train_eval_loss.append(dict_of_histories[res_file]['eval_score_loss'][-1])\n",
    "        list_of_train_mate_loss.append(dict_of_histories[res_file]['mate_turns_loss'][-1])"
   ]
  },
  {
   "cell_type": "code",
   "execution_count": 9,
   "metadata": {},
   "outputs": [
    {
     "output_type": "execute_result",
     "data": {
      "text/plain": [
       "[0.004111971240490675,\n",
       " 0.016718365252017975,\n",
       " 0.0006477771094068885,\n",
       " 0.0005046118167228997,\n",
       " 0.0005069038015790284,\n",
       " 0.0005048856837674975,\n",
       " 0.0005078073590993881,\n",
       " 0.0005052133346907794]"
      ]
     },
     "metadata": {},
     "execution_count": 9
    }
   ],
   "source": [
    "list_of_val_eval_loss"
   ]
  },
  {
   "cell_type": "code",
   "execution_count": 10,
   "metadata": {},
   "outputs": [],
   "source": [
    "import pandas as pd\n",
    "\n",
    "res_df = pd.DataFrame(\n",
    "    {'model': dict_of_histories.keys(),\n",
    "    'train_eval_score_loss': list_of_train_eval_loss,\n",
    "     'val_eval_score_loss': list_of_val_eval_loss,\n",
    "     'train_mate_turns_loss': list_of_train_mate_loss,\n",
    "     'val_mate_turns_loss': list_of_val_mate_loss\n",
    "    })"
   ]
  },
  {
   "cell_type": "code",
   "execution_count": 11,
   "metadata": {},
   "outputs": [
    {
     "output_type": "execute_result",
     "data": {
      "text/plain": [
       "                                               model  train_eval_score_loss  \\\n",
       "0  af_elu_op_Adam_dr_0.3_bs_256_ep_50_lr_0.01_eva...               0.003320   \n",
       "1  af_elu_op_Adam_dr_0.3_bs_512_ep_50_lr_0.01_eva...               0.003808   \n",
       "2  af_elu_op_Adam_dr_0.5_bs_256_ep_50_lr_0.01_eva...               0.004823   \n",
       "3  af_elu_op_Adam_dr_0.5_bs_512_ep_50_lr_0.01_eva...               0.045365   \n",
       "4  af_relu_op_Adam_dr_0.3_bs_256_ep_50_lr_0.01_ev...               0.000510   \n",
       "5  af_relu_op_Adam_dr_0.3_bs_512_ep_50_lr_0.01_ev...               0.000508   \n",
       "6  af_relu_op_Adam_dr_0.5_bs_256_ep_50_lr_0.01_ev...               0.000511   \n",
       "7  af_relu_op_Adam_dr_0.5_bs_512_ep_50_lr_0.01_ev...               0.000508   \n",
       "\n",
       "   val_eval_score_loss  train_mate_turns_loss  val_mate_turns_loss  \n",
       "0             0.004112               1.170295             1.453160  \n",
       "1             0.016718               1.157660             1.168019  \n",
       "2             0.000648               1.169803             1.207846  \n",
       "3             0.000505               1.198322             1.166079  \n",
       "4             0.000507               1.135178             1.133665  \n",
       "5             0.000505               1.135059             1.133533  \n",
       "6             0.000508               1.135264             1.134202  \n",
       "7             0.000505               1.135036             1.133549  "
      ],
      "text/html": "<div>\n<style scoped>\n    .dataframe tbody tr th:only-of-type {\n        vertical-align: middle;\n    }\n\n    .dataframe tbody tr th {\n        vertical-align: top;\n    }\n\n    .dataframe thead th {\n        text-align: right;\n    }\n</style>\n<table border=\"1\" class=\"dataframe\">\n  <thead>\n    <tr style=\"text-align: right;\">\n      <th></th>\n      <th>model</th>\n      <th>train_eval_score_loss</th>\n      <th>val_eval_score_loss</th>\n      <th>train_mate_turns_loss</th>\n      <th>val_mate_turns_loss</th>\n    </tr>\n  </thead>\n  <tbody>\n    <tr>\n      <th>0</th>\n      <td>af_elu_op_Adam_dr_0.3_bs_256_ep_50_lr_0.01_eva...</td>\n      <td>0.003320</td>\n      <td>0.004112</td>\n      <td>1.170295</td>\n      <td>1.453160</td>\n    </tr>\n    <tr>\n      <th>1</th>\n      <td>af_elu_op_Adam_dr_0.3_bs_512_ep_50_lr_0.01_eva...</td>\n      <td>0.003808</td>\n      <td>0.016718</td>\n      <td>1.157660</td>\n      <td>1.168019</td>\n    </tr>\n    <tr>\n      <th>2</th>\n      <td>af_elu_op_Adam_dr_0.5_bs_256_ep_50_lr_0.01_eva...</td>\n      <td>0.004823</td>\n      <td>0.000648</td>\n      <td>1.169803</td>\n      <td>1.207846</td>\n    </tr>\n    <tr>\n      <th>3</th>\n      <td>af_elu_op_Adam_dr_0.5_bs_512_ep_50_lr_0.01_eva...</td>\n      <td>0.045365</td>\n      <td>0.000505</td>\n      <td>1.198322</td>\n      <td>1.166079</td>\n    </tr>\n    <tr>\n      <th>4</th>\n      <td>af_relu_op_Adam_dr_0.3_bs_256_ep_50_lr_0.01_ev...</td>\n      <td>0.000510</td>\n      <td>0.000507</td>\n      <td>1.135178</td>\n      <td>1.133665</td>\n    </tr>\n    <tr>\n      <th>5</th>\n      <td>af_relu_op_Adam_dr_0.3_bs_512_ep_50_lr_0.01_ev...</td>\n      <td>0.000508</td>\n      <td>0.000505</td>\n      <td>1.135059</td>\n      <td>1.133533</td>\n    </tr>\n    <tr>\n      <th>6</th>\n      <td>af_relu_op_Adam_dr_0.5_bs_256_ep_50_lr_0.01_ev...</td>\n      <td>0.000511</td>\n      <td>0.000508</td>\n      <td>1.135264</td>\n      <td>1.134202</td>\n    </tr>\n    <tr>\n      <th>7</th>\n      <td>af_relu_op_Adam_dr_0.5_bs_512_ep_50_lr_0.01_ev...</td>\n      <td>0.000508</td>\n      <td>0.000505</td>\n      <td>1.135036</td>\n      <td>1.133549</td>\n    </tr>\n  </tbody>\n</table>\n</div>"
     },
     "metadata": {},
     "execution_count": 11
    }
   ],
   "source": [
    "res_df"
   ]
  },
  {
   "cell_type": "code",
   "execution_count": 12,
   "metadata": {},
   "outputs": [],
   "source": [
    "res_df.to_csv(\"D:\\\\PythonProjects\\\\DL-ChessEval\\\\data\\\\tables\\\\normal_loss_pipeline.csv\", index=False)"
   ]
  },
  {
   "cell_type": "code",
   "execution_count": null,
   "metadata": {},
   "outputs": [],
   "source": []
  }
 ]
}