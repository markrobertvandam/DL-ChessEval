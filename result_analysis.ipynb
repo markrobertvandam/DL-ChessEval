{
 "metadata": {
  "language_info": {
   "codemirror_mode": {
    "name": "ipython",
    "version": 3
   },
   "file_extension": ".py",
   "mimetype": "text/x-python",
   "name": "python",
   "nbconvert_exporter": "python",
   "pygments_lexer": "ipython3",
   "version": "3.8.5-final"
  },
  "orig_nbformat": 2,
  "kernelspec": {
   "name": "python385jvsc74a57bd07874e98711e12ed97dde30da94f04032e15b5d94164137218fef3241ec0bfb85",
   "display_name": "Python 3.8.5 64-bit ('.venv')"
  },
  "metadata": {
   "interpreter": {
    "hash": "7874e98711e12ed97dde30da94f04032e15b5d94164137218fef3241ec0bfb85"
   }
  }
 },
 "nbformat": 4,
 "nbformat_minor": 2,
 "cells": [
  {
   "cell_type": "code",
   "execution_count": 1,
   "metadata": {},
   "outputs": [],
   "source": [
    "import os\n",
    "import pickle\n",
    "\n",
    "dict_of_histories = dict()\n",
    "\n",
    "for res_file in os.listdir(\"D:\\\\PythonProjects\\\\DL-ChessEval\\\\data\\\\pipeline_plots_custom_loss\"):\n",
    "    if res_file.endswith(\"eval.pkl\"):\n",
    "        with open(os.path.join(\"D:\\\\PythonProjects\\\\DL-ChessEval\\\\data\\\\pipeline_plots_custom_loss\", res_file), 'rb') as f:\n",
    "            dict_of_histories[res_file] = pickle.load(f)"
   ]
  },
  {
   "cell_type": "code",
   "execution_count": 4,
   "metadata": {},
   "outputs": [
    {
     "output_type": "execute_result",
     "data": {
      "text/plain": [
       "{'loss': [3.247925043106079,\n",
       "  2.818558692932129,\n",
       "  2.812628746032715,\n",
       "  2.812016248703003,\n",
       "  2.811476707458496,\n",
       "  2.810727119445801,\n",
       "  2.8103795051574707,\n",
       "  2.8121273517608643,\n",
       "  2.8105766773223877,\n",
       "  2.8106815814971924,\n",
       "  2.809943914413452,\n",
       "  2.81069016456604],\n",
       " 'eval_mse': [0.0006917573045939207,\n",
       "  0.0004902762011624873,\n",
       "  0.0004893915611319244,\n",
       "  0.000489546568132937,\n",
       "  0.0004895756719633937,\n",
       "  0.0004897670005448163,\n",
       "  0.0004893879522569478,\n",
       "  0.000489896978251636,\n",
       "  0.0004894739831797779,\n",
       "  0.0004897838807664812,\n",
       "  0.0004894445883110166,\n",
       "  0.0004896225873380899],\n",
       " 'mate_mse': [1.128055453300476,\n",
       "  1.126176357269287,\n",
       "  1.1258255243301392,\n",
       "  1.1263600587844849,\n",
       "  1.125902771949768,\n",
       "  1.1261309385299683,\n",
       "  1.1255590915679932,\n",
       "  1.1259034872055054,\n",
       "  1.1262335777282715,\n",
       "  1.1261354684829712,\n",
       "  1.1260273456573486,\n",
       "  1.126118540763855],\n",
       " 'is_mate_ba': [0.9853496551513672,\n",
       "  0.9853606224060059,\n",
       "  0.9853606224060059,\n",
       "  0.9853606224060059,\n",
       "  0.9853606224060059,\n",
       "  0.9853606224060059,\n",
       "  0.9853606224060059,\n",
       "  0.9853606224060059,\n",
       "  0.9853606224060059,\n",
       "  0.9853606224060059,\n",
       "  0.9853606224060059,\n",
       "  0.9853606224060059],\n",
       " 'val_loss': [2.947244882583618,\n",
       "  2.8100781440734863,\n",
       "  2.832279920578003,\n",
       "  2.829390287399292,\n",
       "  2.8228118419647217,\n",
       "  2.8635382652282715,\n",
       "  3.01123046875,\n",
       "  2.888866901397705,\n",
       "  2.810969352722168,\n",
       "  2.8296329975128174,\n",
       "  2.828671932220459,\n",
       "  2.822950601577759],\n",
       " 'val_eval_mse': [0.0005517989047802985,\n",
       "  0.00048684884677641094,\n",
       "  0.0004941297811456025,\n",
       "  0.0004961013910360634,\n",
       "  0.0004931142902933061,\n",
       "  0.0005111403297632933,\n",
       "  0.0005816397606395185,\n",
       "  0.0005246574874036014,\n",
       "  0.00048728036927059293,\n",
       "  0.0004981610109098256,\n",
       "  0.0004910948337055743,\n",
       "  0.0004942597006447613],\n",
       " 'val_mate_mse': [1.1279726028442383,\n",
       "  1.125138759613037,\n",
       "  1.1263515949249268,\n",
       "  1.1270222663879395,\n",
       "  1.126920223236084,\n",
       "  1.1259162425994873,\n",
       "  1.124630331993103,\n",
       "  1.1252537965774536,\n",
       "  1.1243613958358765,\n",
       "  1.1243855953216553,\n",
       "  1.1257867813110352,\n",
       "  1.1246404647827148],\n",
       " 'val_is_mate_ba': [0.9850071668624878,\n",
       "  0.9850071668624878,\n",
       "  0.9850071668624878,\n",
       "  0.9850071668624878,\n",
       "  0.9850071668624878,\n",
       "  0.9850071668624878,\n",
       "  0.9850071668624878,\n",
       "  0.9850071668624878,\n",
       "  0.9850071668624878,\n",
       "  0.9850071668624878,\n",
       "  0.9850071668624878,\n",
       "  0.9850071668624878]}"
      ]
     },
     "metadata": {},
     "execution_count": 4
    }
   ],
   "source": [
    "dict_of_histories['af_relu_op_Adam_dr_0.3_bs_256_ep_50_lr_0.01_eval.pkl']"
   ]
  },
  {
   "cell_type": "code",
   "execution_count": 5,
   "metadata": {},
   "outputs": [],
   "source": [
    "list_of_train_eval_loss = list()\n",
    "list_of_train_mate_loss = list()\n",
    "list_of_val_eval_loss = list()\n",
    "list_of_val_mate_loss = list()\n",
    "for res_file in os.listdir(\"D:\\\\PythonProjects\\\\DL-ChessEval\\\\data\\\\pipeline_plots_custom_loss\"):\n",
    "    if res_file.endswith(\"eval.pkl\"):\n",
    "        list_of_val_eval_loss.append(dict_of_histories[res_file]['val_eval_mse'][-11])\n",
    "        list_of_val_mate_loss.append(dict_of_histories[res_file]['val_mate_mse'][-11])\n",
    "        list_of_train_eval_loss.append(dict_of_histories[res_file]['eval_mse'][-11])\n",
    "        list_of_train_mate_loss.append(dict_of_histories[res_file]['mate_mse'][-11])"
   ]
  },
  {
   "cell_type": "code",
   "execution_count": 6,
   "metadata": {},
   "outputs": [],
   "source": [
    "#dict_of_histories['af_elu_op_Adam_dr_0.5_bs_256_ep_50_lr_0.01_eval.pkl']['val_eval_score_loss']"
   ]
  },
  {
   "cell_type": "code",
   "execution_count": 7,
   "metadata": {},
   "outputs": [],
   "source": [
    "import pandas as pd\n",
    "\n",
    "res_df = pd.DataFrame(\n",
    "    {'model': dict_of_histories.keys(),\n",
    "    'train_eval_score_loss': list_of_train_eval_loss,\n",
    "     'val_eval_score_loss': list_of_val_eval_loss,\n",
    "     'train_mate_turns_loss': list_of_train_mate_loss,\n",
    "     'val_mate_turns_loss': list_of_val_mate_loss\n",
    "    })"
   ]
  },
  {
   "cell_type": "code",
   "execution_count": 8,
   "metadata": {},
   "outputs": [
    {
     "output_type": "execute_result",
     "data": {
      "text/plain": [
       "                                               model  train_eval_score_loss  \\\n",
       "0  af_relu_op_Adam_dr_0.3_bs_256_ep_50_lr_0.01_ev...               0.000490   \n",
       "1  af_relu_op_Adam_dr_0.3_bs_512_ep_50_lr_0.01_ev...               0.000488   \n",
       "2  af_relu_op_Adam_dr_0.5_bs_256_ep_50_lr_0.01_ev...               0.001027   \n",
       "3  af_relu_op_Adam_dr_0.5_bs_512_ep_50_lr_0.01_ev...               0.000490   \n",
       "\n",
       "   val_eval_score_loss  train_mate_turns_loss  val_mate_turns_loss  \n",
       "0             0.000487               1.126176             1.125139  \n",
       "1             0.000486               1.125573             1.126064  \n",
       "2             0.000488               1.128043             1.126113  \n",
       "3             0.000487               1.126181             1.126313  "
      ],
      "text/html": "<div>\n<style scoped>\n    .dataframe tbody tr th:only-of-type {\n        vertical-align: middle;\n    }\n\n    .dataframe tbody tr th {\n        vertical-align: top;\n    }\n\n    .dataframe thead th {\n        text-align: right;\n    }\n</style>\n<table border=\"1\" class=\"dataframe\">\n  <thead>\n    <tr style=\"text-align: right;\">\n      <th></th>\n      <th>model</th>\n      <th>train_eval_score_loss</th>\n      <th>val_eval_score_loss</th>\n      <th>train_mate_turns_loss</th>\n      <th>val_mate_turns_loss</th>\n    </tr>\n  </thead>\n  <tbody>\n    <tr>\n      <th>0</th>\n      <td>af_relu_op_Adam_dr_0.3_bs_256_ep_50_lr_0.01_ev...</td>\n      <td>0.000490</td>\n      <td>0.000487</td>\n      <td>1.126176</td>\n      <td>1.125139</td>\n    </tr>\n    <tr>\n      <th>1</th>\n      <td>af_relu_op_Adam_dr_0.3_bs_512_ep_50_lr_0.01_ev...</td>\n      <td>0.000488</td>\n      <td>0.000486</td>\n      <td>1.125573</td>\n      <td>1.126064</td>\n    </tr>\n    <tr>\n      <th>2</th>\n      <td>af_relu_op_Adam_dr_0.5_bs_256_ep_50_lr_0.01_ev...</td>\n      <td>0.001027</td>\n      <td>0.000488</td>\n      <td>1.128043</td>\n      <td>1.126113</td>\n    </tr>\n    <tr>\n      <th>3</th>\n      <td>af_relu_op_Adam_dr_0.5_bs_512_ep_50_lr_0.01_ev...</td>\n      <td>0.000490</td>\n      <td>0.000487</td>\n      <td>1.126181</td>\n      <td>1.126313</td>\n    </tr>\n  </tbody>\n</table>\n</div>"
     },
     "metadata": {},
     "execution_count": 8
    }
   ],
   "source": [
    "res_df"
   ]
  },
  {
   "cell_type": "code",
   "execution_count": 9,
   "metadata": {},
   "outputs": [],
   "source": [
    "res_df.to_csv(\"D:\\\\PythonProjects\\\\DL-ChessEval\\\\data\\\\tables\\\\custom_loss_pipeline_best_weights.csv\", index=False)"
   ]
  },
  {
   "cell_type": "code",
   "execution_count": null,
   "metadata": {},
   "outputs": [],
   "source": []
  }
 ]
}