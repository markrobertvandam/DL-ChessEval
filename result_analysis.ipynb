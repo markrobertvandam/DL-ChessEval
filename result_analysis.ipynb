{
 "metadata": {
  "language_info": {
   "codemirror_mode": {
    "name": "ipython",
    "version": 3
   },
   "file_extension": ".py",
   "mimetype": "text/x-python",
   "name": "python",
   "nbconvert_exporter": "python",
   "pygments_lexer": "ipython3",
   "version": "3.8.5-final"
  },
  "orig_nbformat": 2,
  "kernelspec": {
   "name": "python385jvsc74a57bd07874e98711e12ed97dde30da94f04032e15b5d94164137218fef3241ec0bfb85",
   "display_name": "Python 3.8.5 64-bit ('.venv')"
  },
  "metadata": {
   "interpreter": {
    "hash": "7874e98711e12ed97dde30da94f04032e15b5d94164137218fef3241ec0bfb85"
   }
  }
 },
 "nbformat": 4,
 "nbformat_minor": 2,
 "cells": [
  {
   "cell_type": "code",
   "execution_count": 16,
   "metadata": {},
   "outputs": [],
   "source": [
    "import os\n",
    "import pickle\n",
    "\n",
    "dict_of_histories = dict()\n",
    "\n",
    "for res_file in os.listdir(\"D:\\\\PythonProjects\\\\DL-ChessEval\\\\data\\\\pipeline_plots\"):\n",
    "    if res_file.endswith(\"eval.pkl\"):\n",
    "        with open(os.path.join(\"D:\\\\PythonProjects\\\\DL-ChessEval\\\\data\\\\pipeline_plots\", res_file), 'rb') as f:\n",
    "            dict_of_histories[res_file] = pickle.load(f)"
   ]
  },
  {
   "cell_type": "code",
   "execution_count": 17,
   "metadata": {},
   "outputs": [
    {
     "output_type": "execute_result",
     "data": {
      "text/plain": [
       "dict_keys(['af_elu_op_Adam_dr_0.3_bs_256_ep_50_lr_0.01_eval.pkl', 'af_elu_op_Adam_dr_0.3_bs_512_ep_50_lr_0.01_eval.pkl', 'af_elu_op_Adam_dr_0.5_bs_256_ep_50_lr_0.01_eval.pkl', 'af_elu_op_Adam_dr_0.5_bs_512_ep_50_lr_0.01_eval.pkl', 'af_relu_op_Adam_dr_0.3_bs_256_ep_50_lr_0.01_eval.pkl', 'af_relu_op_Adam_dr_0.3_bs_512_ep_50_lr_0.01_eval.pkl', 'af_relu_op_Adam_dr_0.5_bs_256_ep_50_lr_0.01_eval.pkl', 'af_relu_op_Adam_dr_0.5_bs_512_ep_50_lr_0.01_eval.pkl'])"
      ]
     },
     "metadata": {},
     "execution_count": 17
    }
   ],
   "source": [
    "dict_of_histories.keys()"
   ]
  },
  {
   "cell_type": "code",
   "execution_count": 18,
   "metadata": {},
   "outputs": [],
   "source": [
    "list_of_train_eval_loss = list()\n",
    "list_of_train_mate_loss = list()\n",
    "list_of_val_eval_loss = list()\n",
    "list_of_val_mate_loss = list()\n",
    "for res_file in os.listdir(\"D:\\\\PythonProjects\\\\DL-ChessEval\\\\data\\\\pipeline_plots\"):\n",
    "    if res_file.endswith(\"eval.pkl\"):\n",
    "        list_of_val_eval_loss.append(dict_of_histories[res_file]['val_eval_score_loss'][-11])\n",
    "        list_of_val_mate_loss.append(dict_of_histories[res_file]['val_mate_turns_loss'][-11])\n",
    "        list_of_train_eval_loss.append(dict_of_histories[res_file]['eval_score_loss'][-11])\n",
    "        list_of_train_mate_loss.append(dict_of_histories[res_file]['mate_turns_loss'][-11])"
   ]
  },
  {
   "cell_type": "code",
   "execution_count": 19,
   "metadata": {},
   "outputs": [],
   "source": [
    "#dict_of_histories['af_elu_op_Adam_dr_0.5_bs_256_ep_50_lr_0.01_eval.pkl']['val_eval_score_loss']"
   ]
  },
  {
   "cell_type": "code",
   "execution_count": 20,
   "metadata": {},
   "outputs": [],
   "source": [
    "import pandas as pd\n",
    "\n",
    "res_df = pd.DataFrame(\n",
    "    {'model': dict_of_histories.keys(),\n",
    "    'train_eval_score_loss': list_of_train_eval_loss,\n",
    "     'val_eval_score_loss': list_of_val_eval_loss,\n",
    "     'train_mate_turns_loss': list_of_train_mate_loss,\n",
    "     'val_mate_turns_loss': list_of_val_mate_loss\n",
    "    })"
   ]
  },
  {
   "cell_type": "code",
   "execution_count": 21,
   "metadata": {},
   "outputs": [
    {
     "output_type": "execute_result",
     "data": {
      "text/plain": [
       "                                               model  train_eval_score_loss  \\\n",
       "0  af_elu_op_Adam_dr_0.3_bs_256_ep_50_lr_0.01_eva...              46.545845   \n",
       "1  af_elu_op_Adam_dr_0.3_bs_512_ep_50_lr_0.01_eva...               0.004781   \n",
       "2  af_elu_op_Adam_dr_0.5_bs_256_ep_50_lr_0.01_eva...               0.003851   \n",
       "3  af_elu_op_Adam_dr_0.5_bs_512_ep_50_lr_0.01_eva...            5584.847656   \n",
       "4  af_relu_op_Adam_dr_0.3_bs_256_ep_50_lr_0.01_ev...               0.001461   \n",
       "5  af_relu_op_Adam_dr_0.3_bs_512_ep_50_lr_0.01_ev...               0.001054   \n",
       "6  af_relu_op_Adam_dr_0.5_bs_256_ep_50_lr_0.01_ev...               0.000810   \n",
       "7  af_relu_op_Adam_dr_0.5_bs_512_ep_50_lr_0.01_ev...               0.001185   \n",
       "\n",
       "   val_eval_score_loss  train_mate_turns_loss  val_mate_turns_loss  \n",
       "0             0.000505              46.819542             1.133715  \n",
       "1             0.000531               1.158010             1.148236  \n",
       "2             0.000507               1.168641             1.151184  \n",
       "3             0.000583            5542.056641             1.133685  \n",
       "4             0.000518               1.135681             1.133794  \n",
       "5             0.000505               1.135751             1.133757  \n",
       "6             0.000598               1.136081             1.133415  \n",
       "7             0.000521               1.135752             1.133779  "
      ],
      "text/html": "<div>\n<style scoped>\n    .dataframe tbody tr th:only-of-type {\n        vertical-align: middle;\n    }\n\n    .dataframe tbody tr th {\n        vertical-align: top;\n    }\n\n    .dataframe thead th {\n        text-align: right;\n    }\n</style>\n<table border=\"1\" class=\"dataframe\">\n  <thead>\n    <tr style=\"text-align: right;\">\n      <th></th>\n      <th>model</th>\n      <th>train_eval_score_loss</th>\n      <th>val_eval_score_loss</th>\n      <th>train_mate_turns_loss</th>\n      <th>val_mate_turns_loss</th>\n    </tr>\n  </thead>\n  <tbody>\n    <tr>\n      <th>0</th>\n      <td>af_elu_op_Adam_dr_0.3_bs_256_ep_50_lr_0.01_eva...</td>\n      <td>46.545845</td>\n      <td>0.000505</td>\n      <td>46.819542</td>\n      <td>1.133715</td>\n    </tr>\n    <tr>\n      <th>1</th>\n      <td>af_elu_op_Adam_dr_0.3_bs_512_ep_50_lr_0.01_eva...</td>\n      <td>0.004781</td>\n      <td>0.000531</td>\n      <td>1.158010</td>\n      <td>1.148236</td>\n    </tr>\n    <tr>\n      <th>2</th>\n      <td>af_elu_op_Adam_dr_0.5_bs_256_ep_50_lr_0.01_eva...</td>\n      <td>0.003851</td>\n      <td>0.000507</td>\n      <td>1.168641</td>\n      <td>1.151184</td>\n    </tr>\n    <tr>\n      <th>3</th>\n      <td>af_elu_op_Adam_dr_0.5_bs_512_ep_50_lr_0.01_eva...</td>\n      <td>5584.847656</td>\n      <td>0.000583</td>\n      <td>5542.056641</td>\n      <td>1.133685</td>\n    </tr>\n    <tr>\n      <th>4</th>\n      <td>af_relu_op_Adam_dr_0.3_bs_256_ep_50_lr_0.01_ev...</td>\n      <td>0.001461</td>\n      <td>0.000518</td>\n      <td>1.135681</td>\n      <td>1.133794</td>\n    </tr>\n    <tr>\n      <th>5</th>\n      <td>af_relu_op_Adam_dr_0.3_bs_512_ep_50_lr_0.01_ev...</td>\n      <td>0.001054</td>\n      <td>0.000505</td>\n      <td>1.135751</td>\n      <td>1.133757</td>\n    </tr>\n    <tr>\n      <th>6</th>\n      <td>af_relu_op_Adam_dr_0.5_bs_256_ep_50_lr_0.01_ev...</td>\n      <td>0.000810</td>\n      <td>0.000598</td>\n      <td>1.136081</td>\n      <td>1.133415</td>\n    </tr>\n    <tr>\n      <th>7</th>\n      <td>af_relu_op_Adam_dr_0.5_bs_512_ep_50_lr_0.01_ev...</td>\n      <td>0.001185</td>\n      <td>0.000521</td>\n      <td>1.135752</td>\n      <td>1.133779</td>\n    </tr>\n  </tbody>\n</table>\n</div>"
     },
     "metadata": {},
     "execution_count": 21
    }
   ],
   "source": [
    "res_df"
   ]
  },
  {
   "cell_type": "code",
   "execution_count": 12,
   "metadata": {},
   "outputs": [],
   "source": [
    "res_df.to_csv(\"D:\\\\PythonProjects\\\\DL-ChessEval\\\\data\\\\tables\\\\normal_loss_pipeline.csv\", index=False)"
   ]
  },
  {
   "cell_type": "code",
   "execution_count": null,
   "metadata": {},
   "outputs": [],
   "source": []
  }
 ]
}